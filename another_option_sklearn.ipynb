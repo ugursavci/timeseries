{
 "cells": [
  {
   "cell_type": "code",
   "execution_count": 13,
   "id": "ff10d083",
   "metadata": {},
   "outputs": [],
   "source": [
    "import pandas as pd\n",
    "import numpy as np\n",
    "\n",
    "import matplotlib.pyplot as plt\n",
    "import seaborn as sns\n",
    "\n",
    "from sklearn.linear_model import LinearRegression\n",
    "from sklearn.linear_model import Ridge\n",
    "from sklearn.metrics import mean_absolute_error,mean_absolute_percentage_error\n",
    "\n",
    "from statsmodels.graphics.tsaplots import plot_pacf\n",
    "from statsmodels.tsa.seasonal import seasonal_decompose\n",
    "from statsmodels.graphics.tsaplots import plot_acf\n",
    "from sklearn.linear_model  import Lasso\n",
    "from sklearn.linear_model import ElasticNet\n",
    "\n",
    "\n",
    "\n",
    "pd.set_option('display.max_columns',None)\n",
    "pd.set_option(\"display.max_rows\",None)\n",
    "pd.options.display.float_format = '{:,.2f}'.format\n",
    "\n",
    "import warnings\n",
    "warnings.filterwarnings('ignore')\n",
    "\n",
    "\n",
    "import pickle"
   ]
  },
  {
   "cell_type": "code",
   "execution_count": 14,
   "id": "9f631514",
   "metadata": {},
   "outputs": [],
   "source": [
    "df = pd.read_excel('Veri-Seti.xlsx',index_col=\"Date\",parse_dates=['Date'])\n",
    "df.columns = df.columns.str.lower().str.replace(\" \",\"_\")\n",
    "df = df.iloc[:149,:]"
   ]
  },
  {
   "cell_type": "markdown",
   "id": "12ab9eea",
   "metadata": {},
   "source": [
    "### Data Analysis & Cleaning"
   ]
  },
  {
   "cell_type": "code",
   "execution_count": 15,
   "id": "4b28a8de",
   "metadata": {
    "scrolled": true
   },
   "outputs": [
    {
     "data": {
      "text/html": [
       "<div>\n",
       "<style scoped>\n",
       "    .dataframe tbody tr th:only-of-type {\n",
       "        vertical-align: middle;\n",
       "    }\n",
       "\n",
       "    .dataframe tbody tr th {\n",
       "        vertical-align: top;\n",
       "    }\n",
       "\n",
       "    .dataframe thead th {\n",
       "        text-align: right;\n",
       "    }\n",
       "</style>\n",
       "<table border=\"1\" class=\"dataframe\">\n",
       "  <thead>\n",
       "    <tr style=\"text-align: right;\">\n",
       "      <th></th>\n",
       "      <th>otv_orani</th>\n",
       "      <th>faiz</th>\n",
       "      <th>eur/tl</th>\n",
       "      <th>kredi_stok</th>\n",
       "      <th>otomotiv_satis</th>\n",
       "    </tr>\n",
       "    <tr>\n",
       "      <th>Date</th>\n",
       "      <th></th>\n",
       "      <th></th>\n",
       "      <th></th>\n",
       "      <th></th>\n",
       "      <th></th>\n",
       "    </tr>\n",
       "  </thead>\n",
       "  <tbody>\n",
       "    <tr>\n",
       "      <th>2010-01-01</th>\n",
       "      <td>37.00</td>\n",
       "      <td>13.18</td>\n",
       "      <td>2.11</td>\n",
       "      <td>341,244.13</td>\n",
       "      <td>20,095.00</td>\n",
       "    </tr>\n",
       "    <tr>\n",
       "      <th>2010-02-01</th>\n",
       "      <td>37.00</td>\n",
       "      <td>13.27</td>\n",
       "      <td>2.07</td>\n",
       "      <td>351,940.95</td>\n",
       "      <td>31,172.00</td>\n",
       "    </tr>\n",
       "    <tr>\n",
       "      <th>2010-03-01</th>\n",
       "      <td>37.00</td>\n",
       "      <td>12.73</td>\n",
       "      <td>2.09</td>\n",
       "      <td>361,307.32</td>\n",
       "      <td>51,769.00</td>\n",
       "    </tr>\n",
       "    <tr>\n",
       "      <th>2010-04-01</th>\n",
       "      <td>37.00</td>\n",
       "      <td>12.01</td>\n",
       "      <td>2.01</td>\n",
       "      <td>373,575.34</td>\n",
       "      <td>54,946.00</td>\n",
       "    </tr>\n",
       "    <tr>\n",
       "      <th>2010-05-01</th>\n",
       "      <td>37.00</td>\n",
       "      <td>11.74</td>\n",
       "      <td>1.95</td>\n",
       "      <td>387,708.05</td>\n",
       "      <td>59,377.00</td>\n",
       "    </tr>\n",
       "  </tbody>\n",
       "</table>\n",
       "</div>"
      ],
      "text/plain": [
       "            otv_orani  faiz  eur/tl  kredi_stok  otomotiv_satis\n",
       "Date                                                           \n",
       "2010-01-01      37.00 13.18    2.11  341,244.13       20,095.00\n",
       "2010-02-01      37.00 13.27    2.07  351,940.95       31,172.00\n",
       "2010-03-01      37.00 12.73    2.09  361,307.32       51,769.00\n",
       "2010-04-01      37.00 12.01    2.01  373,575.34       54,946.00\n",
       "2010-05-01      37.00 11.74    1.95  387,708.05       59,377.00"
      ]
     },
     "execution_count": 15,
     "metadata": {},
     "output_type": "execute_result"
    }
   ],
   "source": [
    "df.head()"
   ]
  },
  {
   "cell_type": "code",
   "execution_count": 16,
   "id": "3622fd5b",
   "metadata": {},
   "outputs": [
    {
     "name": "stdout",
     "output_type": "stream",
     "text": [
      "<class 'pandas.core.frame.DataFrame'>\n",
      "DatetimeIndex: 149 entries, 2010-01-01 to 2022-05-01\n",
      "Data columns (total 5 columns):\n",
      " #   Column          Non-Null Count  Dtype  \n",
      "---  ------          --------------  -----  \n",
      " 0   otv_orani       149 non-null    float64\n",
      " 1   faiz            149 non-null    float64\n",
      " 2   eur/tl          149 non-null    float64\n",
      " 3   kredi_stok      149 non-null    float64\n",
      " 4   otomotiv_satis  149 non-null    float64\n",
      "dtypes: float64(5)\n",
      "memory usage: 7.0 KB\n"
     ]
    }
   ],
   "source": [
    "df.info()"
   ]
  },
  {
   "cell_type": "code",
   "execution_count": 17,
   "id": "7d110b4a",
   "metadata": {},
   "outputs": [
    {
     "data": {
      "text/plain": [
       "otv_orani         0\n",
       "faiz              0\n",
       "eur/tl            0\n",
       "kredi_stok        0\n",
       "otomotiv_satis    0\n",
       "dtype: int64"
      ]
     },
     "execution_count": 17,
     "metadata": {},
     "output_type": "execute_result"
    }
   ],
   "source": [
    "df.isnull().sum()"
   ]
  },
  {
   "cell_type": "code",
   "execution_count": 18,
   "id": "143b0db8",
   "metadata": {},
   "outputs": [
    {
     "data": {
      "text/html": [
       "<div>\n",
       "<style scoped>\n",
       "    .dataframe tbody tr th:only-of-type {\n",
       "        vertical-align: middle;\n",
       "    }\n",
       "\n",
       "    .dataframe tbody tr th {\n",
       "        vertical-align: top;\n",
       "    }\n",
       "\n",
       "    .dataframe thead th {\n",
       "        text-align: right;\n",
       "    }\n",
       "</style>\n",
       "<table border=\"1\" class=\"dataframe\">\n",
       "  <thead>\n",
       "    <tr style=\"text-align: right;\">\n",
       "      <th></th>\n",
       "      <th>otv_orani</th>\n",
       "      <th>faiz</th>\n",
       "      <th>eur/tl</th>\n",
       "      <th>kredi_stok</th>\n",
       "      <th>otomotiv_satis</th>\n",
       "    </tr>\n",
       "  </thead>\n",
       "  <tbody>\n",
       "    <tr>\n",
       "      <th>count</th>\n",
       "      <td>149.00</td>\n",
       "      <td>149.00</td>\n",
       "      <td>149.00</td>\n",
       "      <td>149.00</td>\n",
       "      <td>149.00</td>\n",
       "    </tr>\n",
       "    <tr>\n",
       "      <th>mean</th>\n",
       "      <td>43.70</td>\n",
       "      <td>16.03</td>\n",
       "      <td>4.81</td>\n",
       "      <td>1,787,554.29</td>\n",
       "      <td>65,902.62</td>\n",
       "    </tr>\n",
       "    <tr>\n",
       "      <th>std</th>\n",
       "      <td>5.85</td>\n",
       "      <td>5.32</td>\n",
       "      <td>3.32</td>\n",
       "      <td>1,176,365.97</td>\n",
       "      <td>26,175.80</td>\n",
       "    </tr>\n",
       "    <tr>\n",
       "      <th>min</th>\n",
       "      <td>37.00</td>\n",
       "      <td>9.61</td>\n",
       "      <td>1.93</td>\n",
       "      <td>341,244.13</td>\n",
       "      <td>14,373.00</td>\n",
       "    </tr>\n",
       "    <tr>\n",
       "      <th>25%</th>\n",
       "      <td>40.00</td>\n",
       "      <td>12.71</td>\n",
       "      <td>2.46</td>\n",
       "      <td>775,545.50</td>\n",
       "      <td>50,008.00</td>\n",
       "    </tr>\n",
       "    <tr>\n",
       "      <th>50%</th>\n",
       "      <td>45.00</td>\n",
       "      <td>14.48</td>\n",
       "      <td>3.28</td>\n",
       "      <td>1,474,594.12</td>\n",
       "      <td>63,044.00</td>\n",
       "    </tr>\n",
       "    <tr>\n",
       "      <th>75%</th>\n",
       "      <td>50.00</td>\n",
       "      <td>17.48</td>\n",
       "      <td>6.38</td>\n",
       "      <td>2,447,479.19</td>\n",
       "      <td>79,819.00</td>\n",
       "    </tr>\n",
       "    <tr>\n",
       "      <th>max</th>\n",
       "      <td>65.00</td>\n",
       "      <td>32.78</td>\n",
       "      <td>16.56</td>\n",
       "      <td>4,862,887.42</td>\n",
       "      <td>156,173.00</td>\n",
       "    </tr>\n",
       "  </tbody>\n",
       "</table>\n",
       "</div>"
      ],
      "text/plain": [
       "       otv_orani   faiz  eur/tl   kredi_stok  otomotiv_satis\n",
       "count     149.00 149.00  149.00       149.00          149.00\n",
       "mean       43.70  16.03    4.81 1,787,554.29       65,902.62\n",
       "std         5.85   5.32    3.32 1,176,365.97       26,175.80\n",
       "min        37.00   9.61    1.93   341,244.13       14,373.00\n",
       "25%        40.00  12.71    2.46   775,545.50       50,008.00\n",
       "50%        45.00  14.48    3.28 1,474,594.12       63,044.00\n",
       "75%        50.00  17.48    6.38 2,447,479.19       79,819.00\n",
       "max        65.00  32.78   16.56 4,862,887.42      156,173.00"
      ]
     },
     "execution_count": 18,
     "metadata": {},
     "output_type": "execute_result"
    }
   ],
   "source": [
    "df.describe()"
   ]
  },
  {
   "cell_type": "markdown",
   "id": "66d2140b",
   "metadata": {},
   "source": [
    "### Baseline Model"
   ]
  },
  {
   "cell_type": "markdown",
   "id": "64e62342",
   "metadata": {},
   "source": [
    "I will use Ridge regression in order to avoid multicollinearity"
   ]
  },
  {
   "cell_type": "code",
   "execution_count": 19,
   "id": "cb30cb4e",
   "metadata": {},
   "outputs": [],
   "source": [
    "rr = Ridge(alpha=.1)"
   ]
  },
  {
   "cell_type": "code",
   "execution_count": 20,
   "id": "e4a693ad",
   "metadata": {},
   "outputs": [],
   "source": [
    "predictors = df.columns[~df.columns.isin(['otomotiv_satis'])]"
   ]
  },
  {
   "cell_type": "code",
   "execution_count": 21,
   "id": "cb2013fd",
   "metadata": {},
   "outputs": [
    {
     "data": {
      "text/plain": [
       "Index(['otv_orani', 'faiz', 'eur/tl', 'kredi_stok'], dtype='object')"
      ]
     },
     "execution_count": 21,
     "metadata": {},
     "output_type": "execute_result"
    }
   ],
   "source": [
    "predictors"
   ]
  },
  {
   "cell_type": "code",
   "execution_count": 22,
   "id": "02ff2d23",
   "metadata": {},
   "outputs": [],
   "source": [
    "def backtest(df, model, predictors, start=120, step=6):\n",
    "    \"\"\"\n",
    "    Parameters\n",
    "    df : dataset\n",
    "    predictors : features we want to use for prediction\n",
    "    start : data that is used for training\n",
    "    period : period that is used for prediction after training set\n",
    "    \"\"\"\n",
    "    \n",
    "    all_predictions = []\n",
    "    \n",
    "    for i in range(start, df.shape[0], step):\n",
    "        train = df.iloc[:i,:]\n",
    "        test = df.iloc[i:(i+step),:]\n",
    "        \n",
    "        model.fit(train[predictors], train[\"otomotiv_satis\"])\n",
    "        \n",
    "        preds = model.predict(test[predictors])\n",
    "        preds = pd.Series(preds, index=test.index)\n",
    "        combined = pd.concat([test[\"otomotiv_satis\"], preds], axis=1)\n",
    "        combined.columns = [\"actual\", \"prediction\"]\n",
    "        combined[\"diff\"] = (combined[\"prediction\"] - combined[\"actual\"]).abs()\n",
    "        \n",
    "        all_predictions.append(combined)\n",
    "    return pd.concat(all_predictions)"
   ]
  },
  {
   "cell_type": "code",
   "execution_count": 23,
   "id": "5c463500",
   "metadata": {
    "scrolled": true
   },
   "outputs": [],
   "source": [
    "predictions = backtest(df,rr,predictors)"
   ]
  },
  {
   "cell_type": "code",
   "execution_count": 29,
   "id": "00bd1c51",
   "metadata": {},
   "outputs": [
    {
     "name": "stdout",
     "output_type": "stream",
     "text": [
      "% 51.0\n"
     ]
    }
   ],
   "source": [
    "print(\"%\",round(mean_absolute_percentage_error(predictions['actual'],predictions['prediction']),2)*100)"
   ]
  },
  {
   "cell_type": "code",
   "execution_count": 30,
   "id": "9f0a846d",
   "metadata": {},
   "outputs": [
    {
     "data": {
      "image/png": "[encoded data removed]",
      "text/plain": [
       "<Figure size 432x288 with 1 Axes>"
      ]
     },
     "execution_count": 30,
     "metadata": {},
     "output_type": "execute_result"
    },
    {
     "data": {
      "image/png": "[encoded data removed]",
      "text/plain": [
       "<Figure size 432x288 with 1 Axes>"
      ]
     },
     "metadata": {
      "needs_background": "light"
     },
     "output_type": "display_data"
    }
   ],
   "source": [
    "plot_pacf(df.otomotiv_satis)"
   ]
  },
  {
   "cell_type": "markdown",
   "id": "d4a285d3",
   "metadata": {},
   "source": [
    "### Feature Engineering"
   ]
  },
  {
   "cell_type": "markdown",
   "id": "229eaf86",
   "metadata": {},
   "source": [
    "### Adding Window and Lag Features"
   ]
  },
  {
   "cell_type": "code",
   "execution_count": 31,
   "id": "08b21483",
   "metadata": {},
   "outputs": [],
   "source": [
    "def compute_rolling(df, horizon, col):\n",
    "    label = f\"rolling_{horizon}_{col}\"\n",
    "    df[label] = df[col].rolling(horizon).mean()\n",
    "    return df\n",
    "\n",
    "def compute_lagging(df, horizon, col):\n",
    "    label = f\"lagging_{horizon}_{col}\"\n",
    "    df[label] = df[col].shift(horizon)\n",
    "    \n",
    "    return df\n",
    "lagging_horizons = [1]\n",
    "for horizon in lagging_horizons:\n",
    "    for col in [\"otomotiv_satis\"]:\n",
    "        df = compute_lagging(df, horizon, col)\n",
    "        \n",
    "rolling_horizons = [3]\n",
    "for horizon in rolling_horizons:\n",
    "    for col in [\"otomotiv_satis\"]:\n",
    "        df = compute_rolling(df, horizon, col)"
   ]
  },
  {
   "cell_type": "markdown",
   "id": "1d89708a",
   "metadata": {},
   "source": [
    "### Adding Date Components"
   ]
  },
  {
   "cell_type": "code",
   "execution_count": 32,
   "id": "ca87adb5",
   "metadata": {},
   "outputs": [],
   "source": [
    "df['month'] = df.index.month\n",
    "df['year'] = df.index.year\n",
    "df['quarter'] = df.index.quarter"
   ]
  },
  {
   "cell_type": "code",
   "execution_count": 33,
   "id": "b5a68648",
   "metadata": {},
   "outputs": [
    {
     "data": {
      "text/html": [
       "<div>\n",
       "<style scoped>\n",
       "    .dataframe tbody tr th:only-of-type {\n",
       "        vertical-align: middle;\n",
       "    }\n",
       "\n",
       "    .dataframe tbody tr th {\n",
       "        vertical-align: top;\n",
       "    }\n",
       "\n",
       "    .dataframe thead th {\n",
       "        text-align: right;\n",
       "    }\n",
       "</style>\n",
       "<table border=\"1\" class=\"dataframe\">\n",
       "  <thead>\n",
       "    <tr style=\"text-align: right;\">\n",
       "      <th></th>\n",
       "      <th>otv_orani</th>\n",
       "      <th>faiz</th>\n",
       "      <th>eur/tl</th>\n",
       "      <th>kredi_stok</th>\n",
       "      <th>otomotiv_satis</th>\n",
       "      <th>lagging_1_otomotiv_satis</th>\n",
       "      <th>rolling_3_otomotiv_satis</th>\n",
       "      <th>month</th>\n",
       "      <th>year</th>\n",
       "      <th>quarter</th>\n",
       "    </tr>\n",
       "    <tr>\n",
       "      <th>Date</th>\n",
       "      <th></th>\n",
       "      <th></th>\n",
       "      <th></th>\n",
       "      <th></th>\n",
       "      <th></th>\n",
       "      <th></th>\n",
       "      <th></th>\n",
       "      <th></th>\n",
       "      <th></th>\n",
       "      <th></th>\n",
       "    </tr>\n",
       "  </thead>\n",
       "  <tbody>\n",
       "    <tr>\n",
       "      <th>2010-01-01</th>\n",
       "      <td>37.00</td>\n",
       "      <td>13.18</td>\n",
       "      <td>2.11</td>\n",
       "      <td>341,244.13</td>\n",
       "      <td>20,095.00</td>\n",
       "      <td>NaN</td>\n",
       "      <td>NaN</td>\n",
       "      <td>1</td>\n",
       "      <td>2010</td>\n",
       "      <td>1</td>\n",
       "    </tr>\n",
       "    <tr>\n",
       "      <th>2010-02-01</th>\n",
       "      <td>37.00</td>\n",
       "      <td>13.27</td>\n",
       "      <td>2.07</td>\n",
       "      <td>351,940.95</td>\n",
       "      <td>31,172.00</td>\n",
       "      <td>20,095.00</td>\n",
       "      <td>NaN</td>\n",
       "      <td>2</td>\n",
       "      <td>2010</td>\n",
       "      <td>1</td>\n",
       "    </tr>\n",
       "    <tr>\n",
       "      <th>2010-03-01</th>\n",
       "      <td>37.00</td>\n",
       "      <td>12.73</td>\n",
       "      <td>2.09</td>\n",
       "      <td>361,307.32</td>\n",
       "      <td>51,769.00</td>\n",
       "      <td>31,172.00</td>\n",
       "      <td>34,345.33</td>\n",
       "      <td>3</td>\n",
       "      <td>2010</td>\n",
       "      <td>1</td>\n",
       "    </tr>\n",
       "    <tr>\n",
       "      <th>2010-04-01</th>\n",
       "      <td>37.00</td>\n",
       "      <td>12.01</td>\n",
       "      <td>2.01</td>\n",
       "      <td>373,575.34</td>\n",
       "      <td>54,946.00</td>\n",
       "      <td>51,769.00</td>\n",
       "      <td>45,962.33</td>\n",
       "      <td>4</td>\n",
       "      <td>2010</td>\n",
       "      <td>2</td>\n",
       "    </tr>\n",
       "    <tr>\n",
       "      <th>2010-05-01</th>\n",
       "      <td>37.00</td>\n",
       "      <td>11.74</td>\n",
       "      <td>1.95</td>\n",
       "      <td>387,708.05</td>\n",
       "      <td>59,377.00</td>\n",
       "      <td>54,946.00</td>\n",
       "      <td>55,364.00</td>\n",
       "      <td>5</td>\n",
       "      <td>2010</td>\n",
       "      <td>2</td>\n",
       "    </tr>\n",
       "  </tbody>\n",
       "</table>\n",
       "</div>"
      ],
      "text/plain": [
       "            otv_orani  faiz  eur/tl  kredi_stok  otomotiv_satis  \\\n",
       "Date                                                              \n",
       "2010-01-01      37.00 13.18    2.11  341,244.13       20,095.00   \n",
       "2010-02-01      37.00 13.27    2.07  351,940.95       31,172.00   \n",
       "2010-03-01      37.00 12.73    2.09  361,307.32       51,769.00   \n",
       "2010-04-01      37.00 12.01    2.01  373,575.34       54,946.00   \n",
       "2010-05-01      37.00 11.74    1.95  387,708.05       59,377.00   \n",
       "\n",
       "            lagging_1_otomotiv_satis  rolling_3_otomotiv_satis  month  year  \\\n",
       "Date                                                                          \n",
       "2010-01-01                       NaN                       NaN      1  2010   \n",
       "2010-02-01                 20,095.00                       NaN      2  2010   \n",
       "2010-03-01                 31,172.00                 34,345.33      3  2010   \n",
       "2010-04-01                 51,769.00                 45,962.33      4  2010   \n",
       "2010-05-01                 54,946.00                 55,364.00      5  2010   \n",
       "\n",
       "            quarter  \n",
       "Date                 \n",
       "2010-01-01        1  \n",
       "2010-02-01        1  \n",
       "2010-03-01        1  \n",
       "2010-04-01        2  \n",
       "2010-05-01        2  "
      ]
     },
     "execution_count": 33,
     "metadata": {},
     "output_type": "execute_result"
    }
   ],
   "source": [
    "df.head()"
   ]
  },
  {
   "cell_type": "code",
   "execution_count": 34,
   "id": "7b84f5ca",
   "metadata": {},
   "outputs": [],
   "source": [
    "df = df.iloc[2:,:]"
   ]
  },
  {
   "cell_type": "code",
   "execution_count": 35,
   "id": "385518c4",
   "metadata": {},
   "outputs": [
    {
     "data": {
      "text/html": [
       "<div>\n",
       "<style scoped>\n",
       "    .dataframe tbody tr th:only-of-type {\n",
       "        vertical-align: middle;\n",
       "    }\n",
       "\n",
       "    .dataframe tbody tr th {\n",
       "        vertical-align: top;\n",
       "    }\n",
       "\n",
       "    .dataframe thead th {\n",
       "        text-align: right;\n",
       "    }\n",
       "</style>\n",
       "<table border=\"1\" class=\"dataframe\">\n",
       "  <thead>\n",
       "    <tr style=\"text-align: right;\">\n",
       "      <th></th>\n",
       "      <th>otv_orani</th>\n",
       "      <th>faiz</th>\n",
       "      <th>eur/tl</th>\n",
       "      <th>kredi_stok</th>\n",
       "      <th>otomotiv_satis</th>\n",
       "      <th>lagging_1_otomotiv_satis</th>\n",
       "      <th>rolling_3_otomotiv_satis</th>\n",
       "      <th>month</th>\n",
       "      <th>year</th>\n",
       "      <th>quarter</th>\n",
       "    </tr>\n",
       "    <tr>\n",
       "      <th>Date</th>\n",
       "      <th></th>\n",
       "      <th></th>\n",
       "      <th></th>\n",
       "      <th></th>\n",
       "      <th></th>\n",
       "      <th></th>\n",
       "      <th></th>\n",
       "      <th></th>\n",
       "      <th></th>\n",
       "      <th></th>\n",
       "    </tr>\n",
       "  </thead>\n",
       "  <tbody>\n",
       "    <tr>\n",
       "      <th>2010-03-01</th>\n",
       "      <td>37.00</td>\n",
       "      <td>12.73</td>\n",
       "      <td>2.09</td>\n",
       "      <td>361,307.32</td>\n",
       "      <td>51,769.00</td>\n",
       "      <td>31,172.00</td>\n",
       "      <td>34,345.33</td>\n",
       "      <td>3</td>\n",
       "      <td>2010</td>\n",
       "      <td>1</td>\n",
       "    </tr>\n",
       "    <tr>\n",
       "      <th>2010-04-01</th>\n",
       "      <td>37.00</td>\n",
       "      <td>12.01</td>\n",
       "      <td>2.01</td>\n",
       "      <td>373,575.34</td>\n",
       "      <td>54,946.00</td>\n",
       "      <td>51,769.00</td>\n",
       "      <td>45,962.33</td>\n",
       "      <td>4</td>\n",
       "      <td>2010</td>\n",
       "      <td>2</td>\n",
       "    </tr>\n",
       "    <tr>\n",
       "      <th>2010-05-01</th>\n",
       "      <td>37.00</td>\n",
       "      <td>11.74</td>\n",
       "      <td>1.95</td>\n",
       "      <td>387,708.05</td>\n",
       "      <td>59,377.00</td>\n",
       "      <td>54,946.00</td>\n",
       "      <td>55,364.00</td>\n",
       "      <td>5</td>\n",
       "      <td>2010</td>\n",
       "      <td>2</td>\n",
       "    </tr>\n",
       "    <tr>\n",
       "      <th>2010-06-01</th>\n",
       "      <td>37.00</td>\n",
       "      <td>11.75</td>\n",
       "      <td>1.93</td>\n",
       "      <td>399,140.76</td>\n",
       "      <td>60,896.00</td>\n",
       "      <td>59,377.00</td>\n",
       "      <td>58,406.33</td>\n",
       "      <td>6</td>\n",
       "      <td>2010</td>\n",
       "      <td>2</td>\n",
       "    </tr>\n",
       "    <tr>\n",
       "      <th>2010-07-01</th>\n",
       "      <td>37.00</td>\n",
       "      <td>11.38</td>\n",
       "      <td>1.97</td>\n",
       "      <td>413,343.45</td>\n",
       "      <td>61,345.00</td>\n",
       "      <td>60,896.00</td>\n",
       "      <td>60,539.33</td>\n",
       "      <td>7</td>\n",
       "      <td>2010</td>\n",
       "      <td>3</td>\n",
       "    </tr>\n",
       "  </tbody>\n",
       "</table>\n",
       "</div>"
      ],
      "text/plain": [
       "            otv_orani  faiz  eur/tl  kredi_stok  otomotiv_satis  \\\n",
       "Date                                                              \n",
       "2010-03-01      37.00 12.73    2.09  361,307.32       51,769.00   \n",
       "2010-04-01      37.00 12.01    2.01  373,575.34       54,946.00   \n",
       "2010-05-01      37.00 11.74    1.95  387,708.05       59,377.00   \n",
       "2010-06-01      37.00 11.75    1.93  399,140.76       60,896.00   \n",
       "2010-07-01      37.00 11.38    1.97  413,343.45       61,345.00   \n",
       "\n",
       "            lagging_1_otomotiv_satis  rolling_3_otomotiv_satis  month  year  \\\n",
       "Date                                                                          \n",
       "2010-03-01                 31,172.00                 34,345.33      3  2010   \n",
       "2010-04-01                 51,769.00                 45,962.33      4  2010   \n",
       "2010-05-01                 54,946.00                 55,364.00      5  2010   \n",
       "2010-06-01                 59,377.00                 58,406.33      6  2010   \n",
       "2010-07-01                 60,896.00                 60,539.33      7  2010   \n",
       "\n",
       "            quarter  \n",
       "Date                 \n",
       "2010-03-01        1  \n",
       "2010-04-01        2  \n",
       "2010-05-01        2  \n",
       "2010-06-01        2  \n",
       "2010-07-01        3  "
      ]
     },
     "execution_count": 35,
     "metadata": {},
     "output_type": "execute_result"
    }
   ],
   "source": [
    "df.head()"
   ]
  },
  {
   "cell_type": "code",
   "execution_count": 36,
   "id": "656e7676",
   "metadata": {},
   "outputs": [],
   "source": [
    "predictors = df.columns[~df.columns.isin(['otomotiv_satis','kredi_stok','eur/tl'])]"
   ]
  },
  {
   "cell_type": "code",
   "execution_count": 42,
   "id": "aac62d83-5140-46cd-88f5-f161e21aa654",
   "metadata": {},
   "outputs": [
    {
     "data": {
      "text/plain": [
       "['otv_orani',\n",
       " 'faiz',\n",
       " 'lagging_1_otomotiv_satis',\n",
       " 'rolling_3_otomotiv_satis',\n",
       " 'month',\n",
       " 'year',\n",
       " 'quarter']"
      ]
     },
     "execution_count": 42,
     "metadata": {},
     "output_type": "execute_result"
    }
   ],
   "source": [
    "list(predictors)"
   ]
  },
  {
   "cell_type": "code",
   "execution_count": 37,
   "id": "c20833d3",
   "metadata": {},
   "outputs": [],
   "source": [
    "predictions = backtest(df,rr,predictors)"
   ]
  },
  {
   "cell_type": "code",
   "execution_count": 40,
   "id": "67b1e313",
   "metadata": {},
   "outputs": [
    {
     "name": "stdout",
     "output_type": "stream",
     "text": [
      "% 18.7\n"
     ]
    }
   ],
   "source": [
    "print(\"%\",round(mean_absolute_percentage_error(predictions['actual'],predictions['prediction']),3)*100)"
   ]
  },
  {
   "cell_type": "markdown",
   "id": "f119df60",
   "metadata": {},
   "source": [
    "### Saving Model"
   ]
  },
  {
   "cell_type": "code",
   "execution_count": 143,
   "id": "076ee742",
   "metadata": {},
   "outputs": [],
   "source": [
    "pickle.dump(rr, open('model.pkl', 'wb'))"
   ]
  },
  {
   "cell_type": "code",
   "execution_count": null,
   "id": "19107f85",
   "metadata": {},
   "outputs": [],
   "source": []
  }
 ],
 "metadata": {
  "kernelspec": {
   "display_name": "Python 3",
   "language": "python",
   "name": "python3"
  },
  "language_info": {
   "codemirror_mode": {
    "name": "ipython",
    "version": 3
   },
   "file_extension": ".py",
   "mimetype": "text/x-python",
   "name": "python",
   "nbconvert_exporter": "python",
   "pygments_lexer": "ipython3",
   "version": "3.8.8"
  }
 },
 "nbformat": 4,
 "nbformat_minor": 5
}
